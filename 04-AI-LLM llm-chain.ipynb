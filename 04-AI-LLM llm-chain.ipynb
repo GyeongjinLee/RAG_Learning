{
 "cells": [
  {
   "cell_type": "markdown",
   "id": "313ac5ef",
   "metadata": {},
   "source": [
    "# LLMChain: 프롬프트와 LLM을 묶어 파이프라인 형태로 자동화\n",
    "\n",
    "---\n",
    "\n",
    "## 1. LLMChain이란?\n",
    "\n",
    "- **LLMChain**은 LangChain 프레임워크의 핵심 컴포넌트입니다.\n",
    "- “프롬프트(Prompt)”와 “LLM(대형 언어 모델, Large Language Model)”을 **하나의 체인(Chain)**으로 묶어,\n",
    "- 입력 → 프롬프트 생성 → LLM 응답 → 출력  \n",
    "  **과정을 자동화된 파이프라인**으로 처리해 줍니다.\n",
    "\n",
    "---\n",
    "\n",
    "## 2. 동작 구조\n",
    "\n",
    "1. **입력(Input)**  \n",
    "   사용자가 입력값을 전달합니다.  \n",
    "   예: `{\"product\": \"친환경 텀블러\"}`\n",
    "\n",
    "2. **프롬프트 템플릿 적용**  \n",
    "   미리 설계한 템플릿에 입력값이 치환되어  \n",
    "   실제 LLM에게 보낼 “텍스트 프롬프트”가 만들어집니다.\n",
    "\n",
    "3. **LLM 호출**  \n",
    "   위에서 생성된 프롬프트가 OpenAI 등 LLM API로 전달되고  \n",
    "   AI가 응답을 생성합니다.\n",
    "\n",
    "4. **출력(Output)**  \n",
    "   LLMChain은 응답 텍스트(및 필요시 중간 데이터)를 반환합니다.\n",
    "\n",
    "5. **자동화 파이프라인**  \n",
    "   위 모든 단계가 **코드 한 줄**(예: `chain.invoke(…)`)로 자동 연동되어 실행됩니다.\n",
    "\n",
    "---\n",
    "\n",
    "## 3. 왜 LLMChain이 필요한가?\n",
    "\n",
    "- **일관성**  \n",
    "  여러 입력에 대해 항상 같은 방식으로 프롬프트 생성 및 LLM 호출이 보장됨\n",
    "\n",
    "- **유지보수성**  \n",
    "  프롬프트 구조나 LLM 설정을 중앙에서 한 번만 관리하면 됨\n",
    "\n",
    "- **확장성**  \n",
    "  LLMChain을 여러 개 조합해 멀티-스텝 체인  \n",
    "  (예: 요약→질의응답→분석 등)도 쉽게 구축 가능\n",
    "\n",
    "- **자동화/재사용성**  \n",
    "  체인을 함수처럼 반복 실행하거나,  \n",
    "  파이프라인에 붙여 다양한 워크플로우로 확장할 수 있음"
   ]
  },
  {
   "cell_type": "markdown",
   "id": "4977da05",
   "metadata": {},
   "source": []
  },
  {
   "cell_type": "code",
   "execution_count": 1,
   "id": "cf54b97a",
   "metadata": {},
   "outputs": [
    {
     "data": {
      "text/plain": [
       "True"
      ]
     },
     "execution_count": 1,
     "metadata": {},
     "output_type": "execute_result"
    }
   ],
   "source": [
    "from dotenv import load_dotenv\n",
    "import os\n",
    "from langchain_google_genai import ChatGoogleGenerativeAI\n",
    "from langchain_core.prompts import PromptTemplate\n",
    "from langchain.chains import LLMChain\n",
    "\n",
    "load_dotenv()\n",
    "\n"
   ]
  },
  {
   "cell_type": "code",
   "execution_count": null,
   "id": "a5ee2eb2",
   "metadata": {},
   "outputs": [
    {
     "name": "stdout",
     "output_type": "stream",
     "text": [
      "질문 : '{product}'에 대한 창의적인 마케팅 슬로건을 3개 만들어주세요.\n",
      "답변 : 1. **지구를 위한 작은 습관, 당신의 스타일을 담은 큰 변화: 친환경 텀블러와 함께하세요.** (지속가능성과 개인의 스타일을 연결하여 소구)\n",
      "\n",
      "2. **플라스틱 걱정은 그만, 스타일과 환경까지 책임지는 똑똑한 선택: 친환경 텀블러.** (문제점 제시 후 해결책 제시, 실용성 강조)\n",
      "\n",
      "3. **매일 마시는 음료, 매일 지구를 구하는 즐거움: 당신의 친환경 텀블러 라이프를 시작하세요.** (일상과 연결, 긍정적이고 즐거운 경험 강조)\n"
     ]
    }
   ],
   "source": [
    "\n",
    "api_key = os.getenv(\"GOOGLE_API_KEY\")\n",
    "if not api_key:\n",
    "    print(\".env 파일에 GOOGLE_API_KEY 를 설정해주세요\")\n",
    "\n",
    "template = \"\"\"\n",
    "당신은 친절한 AI 어시스턴트입니다.\n",
    "주제: {topic}\n",
    "질문: {question}\n",
    "\n",
    "위 주제에 대해 간단하고 이해하기 쉽게 설명해주세요.\n",
    "\"\"\"\n",
    "\n",
    "# 프롬프트 템플릿\n",
    "prompt = PromptTemplate(\n",
    "    input_variables=[\"product\"],\n",
    "    template=\"'{product}'에 대한 창의적인 마케팅 슬로건을 3개 만들어주세요.\"\n",
    ")\n",
    "\n",
    "    \n",
    "llm = ChatGoogleGenerativeAI(\n",
    "    model=\"gemini-1.5-flash\",\n",
    "    google_api_key=api_key,\n",
    "    temperature=0.2\n",
    ")\n",
    "\n",
    "chain =  prompt | llm\n",
    "\n",
    "# 체인 실행 (invoke 사용)\n",
    "result = chain.invoke({\"product\": \"친환경 텀블러\"})\n",
    "print(f\"답변 : {result.content}\")\n",
    "\n"
   ]
  },
  {
   "cell_type": "markdown",
   "id": "a73eb7c7",
   "metadata": {},
   "source": []
  },
  {
   "cell_type": "markdown",
   "id": "71b549fb",
   "metadata": {},
   "source": [
    "- LangSMITH 사이트에서 LLM API 호출, 중간 체인 처리 등을 자동으로 추적 기록하여 요청/응답 데이터, 파라미터, 처리흐름, 오류 등을 대시 보드에서 시각화 할수 있는 기능\n",
    "https://smith.langchain.com/\n",
    "- 로그인 \n",
    "- tracing 정보 확인 할수 있음\n"
   ]
  },
  {
   "cell_type": "markdown",
   "id": "fdcef176",
   "metadata": {},
   "source": []
  }
 ],
 "metadata": {
  "kernelspec": {
   "display_name": "rag-lecture-8YS9sgva-py3.11",
   "language": "python",
   "name": "python3"
  },
  "language_info": {
   "codemirror_mode": {
    "name": "ipython",
    "version": 3
   },
   "file_extension": ".py",
   "mimetype": "text/x-python",
   "name": "python",
   "nbconvert_exporter": "python",
   "pygments_lexer": "ipython3",
   "version": "3.11.9"
  }
 },
 "nbformat": 4,
 "nbformat_minor": 5
}

{
 "cells": [
  {
   "cell_type": "markdown",
   "id": "ed448ce7",
   "metadata": {},
   "source": [
    "# AI AP KEY 발급 및 설정\n",
    "\n",
    "### 1. gemini API 키 발급\n",
    "\n",
    "1) Google AI Studio\n",
    "### Gemini API 키 발급을 위해 아래 링크에 접속\n",
    "- https://aistudio.google.com/welcome\n"
   ]
  },
  {
   "cell_type": "markdown",
   "id": "e7c9e432",
   "metadata": {},
   "source": [
    "- 프로젝트 루트 디렉토리에 .env 파일을 생성\n",
    "- 파일에 API 키를 다음 형식으로 저장합니다. GOOGLE_API_KEY 에 발급받은 API KEY 를 입력\n",
    "- .env 파일에 발급한 API KEY 를 입력"
   ]
  },
  {
   "cell_type": "code",
   "execution_count": 2,
   "id": "37f58cef",
   "metadata": {},
   "outputs": [
    {
     "data": {
      "text/plain": [
       "True"
      ]
     },
     "execution_count": 2,
     "metadata": {},
     "output_type": "execute_result"
    }
   ],
   "source": [
    "# API KEY를 환경변수로 관리하기 위한 설정 파일\n",
    "# 설치: pip install python-dotenv\n",
    "from dotenv import load_dotenv\n",
    "\n",
    "# API KEY 정보로드\n",
    "load_dotenv()"
   ]
  },
  {
   "cell_type": "markdown",
   "id": "3c0d65ac",
   "metadata": {},
   "source": []
  },
  {
   "cell_type": "markdown",
   "id": "056d4167",
   "metadata": {},
   "source": [
    "환경변수의 값 중 구글 API 키 값을 잘 가져오는지 출력"
   ]
  },
  {
   "cell_type": "code",
   "execution_count": null,
   "id": "3c83cc75",
   "metadata": {},
   "outputs": [],
   "source": [
    "import os\n",
    "\n",
    "print(f\"[API KEY]\\n{os.environ['GOOGLE_API_KEY']}\")\n"
   ]
  },
  {
   "cell_type": "markdown",
   "id": "da7961a1",
   "metadata": {},
   "source": [
    "- LangChain 관련 패키지 버전 확인\n",
    "- 예제 샘플 수행하다 에러 발생하면 해당 패키지 설치 진행\n",
    "- 가상 환경에 패키지 설치 \n",
    "poetry add 패키지명 "
   ]
  },
  {
   "cell_type": "code",
   "execution_count": 4,
   "id": "e516c0c7",
   "metadata": {},
   "outputs": [
    {
     "name": "stdout",
     "output_type": "stream",
     "text": [
      "[LangChain 관련 패키지 버전]\n",
      "langchain: 0.3.21\n",
      "langchain-core: 0.3.46\n",
      "langchain-experimental: 0.3.4\n",
      "langchain-community: 0.3.20\n",
      "langchain-openai: 0.3.9\n",
      "langchain-google-genai: 2.1.0\n",
      "langchain-chroma: 0.2.2\n",
      "langchain-elasticsearch: 0.3.2\n",
      "langchain-upstage: 0.6.0\n",
      "langchain-cohere: 0.4.3\n",
      "langchain-milvus: 0.1.8\n",
      "langchain-text-splitters: 0.3.7\n"
     ]
    }
   ],
   "source": [
    "from importlib.metadata import version\n",
    "\n",
    "print(\"[LangChain 관련 패키지 버전]\")\n",
    "for package_name in [\n",
    "    \"langchain\",\n",
    "    \"langchain-core\",\n",
    "    \"langchain-experimental\",\n",
    "    \"langchain-community\",\n",
    "    \"langchain-openai\",\n",
    "    \"langchain-google-genai\",\n",
    "    \"langchain-chroma\",\n",
    "    \"langchain-elasticsearch\",\n",
    "    \"langchain-upstage\",\n",
    "    \"langchain-cohere\",\n",
    "    \"langchain-milvus\",\n",
    "    \"langchain-text-splitters\",\n",
    "]:\n",
    "    try:\n",
    "        package_version = version(package_name)\n",
    "        print(f\"{package_name}: {package_version}\")\n",
    "    except ImportError:\n",
    "        print(f\"{package_name}: 설치되지 않음\")"
   ]
  },
  {
   "cell_type": "markdown",
   "id": "36d8bbc4",
   "metadata": {},
   "source": []
  }
 ],
 "metadata": {
  "kernelspec": {
   "display_name": "rag-lecture-8YS9sgva-py3.11",
   "language": "python",
   "name": "python3"
  },
  "language_info": {
   "codemirror_mode": {
    "name": "ipython",
    "version": 3
   },
   "file_extension": ".py",
   "mimetype": "text/x-python",
   "name": "python",
   "nbconvert_exporter": "python",
   "pygments_lexer": "ipython3",
   "version": "3.11.9"
  }
 },
 "nbformat": 4,
 "nbformat_minor": 5
}

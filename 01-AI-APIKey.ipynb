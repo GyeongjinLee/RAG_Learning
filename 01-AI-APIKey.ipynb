{
 "cells": [
  {
   "cell_type": "markdown",
   "id": "ed448ce7",
   "metadata": {},
   "source": [
    "# AI AP KEY 발급 및 설정\n",
    "\n",
    "### 1. gemini API 키 발급\n",
    "\n",
    "1) Google AI Studio\n",
    "### Gemini API 키 발급을 위해 아래 링크에 접속\n",
    "- https://aistudio.google.com/welcome\n"
   ]
  },
  {
   "cell_type": "markdown",
   "id": "e7c9e432",
   "metadata": {},
   "source": [
    "- 프로젝트 루트 디렉토리에 .env 파일을 생성\n",
    "- 파일에 API 키를 다음 형식으로 저장합니다. GOOGLE_API_KEY 에 발급받은 API KEY 를 입력\n",
    "- .env 파일에 발급한 API KEY 를 입력"
   ]
  },
  {
   "cell_type": "code",
   "execution_count": null,
   "id": "37f58cef",
   "metadata": {},
   "outputs": [],
   "source": [
    "# API KEY를 환경변수로 관리하기 위한 설정 파일\n",
    "# 설치: pip install python-dotenv\n",
    "from dotenv import load_dotenv\n",
    "\n",
    "# API KEY 정보로드\n",
    "load_dotenv()"
   ]
  },
  {
   "cell_type": "markdown",
   "id": "3c0d65ac",
   "metadata": {},
   "source": []
  },
  {
   "cell_type": "markdown",
   "id": "056d4167",
   "metadata": {},
   "source": [
    "환경변수의 값 중 구글 API 키 값을 잘 가져오는지 출력"
   ]
  },
  {
   "cell_type": "code",
   "execution_count": null,
   "id": "3c83cc75",
   "metadata": {},
   "outputs": [],
   "source": [
    "import os\n",
    "\n",
    "print(f\"[API KEY]\\n{os.environ['GOOGLE_API_KEY']}\")\n"
   ]
  },
  {
   "cell_type": "code",
   "execution_count": 1,
   "id": "e516c0c7",
   "metadata": {},
   "outputs": [
    {
     "name": "stdout",
     "output_type": "stream",
     "text": [
      "[LangChain 관련 패키지 버전]\n",
      "langchain: 0.3.26\n",
      "langchain-core: 0.3.68\n",
      "langchain-experimental: 설치되지 않음\n",
      "langchain-community: 설치되지 않음\n",
      "langchain-openai: 설치되지 않음\n",
      "langchain-google-genai: 설치되지 않음\n",
      "langchain-chroma: 설치되지 않음\n",
      "langchain-elasticsearch: 설치되지 않음\n",
      "langchain-upstage: 설치되지 않음\n",
      "langchain-cohere: 설치되지 않음\n",
      "langchain-milvus: 설치되지 않음\n",
      "langchain-text-splitters: 0.3.8\n"
     ]
    }
   ],
   "source": [
    "from importlib.metadata import version\n",
    "\n",
    "print(\"[LangChain 관련 패키지 버전]\")\n",
    "for package_name in [\n",
    "    \"langchain\",\n",
    "    \"langchain-core\",\n",
    "    \"langchain-experimental\",\n",
    "    \"langchain-community\",\n",
    "    \"langchain-openai\",\n",
    "    \"langchain-google-genai\",\n",
    "    \"langchain-chroma\",\n",
    "    \"langchain-elasticsearch\",\n",
    "    \"langchain-upstage\",\n",
    "    \"langchain-cohere\",\n",
    "    \"langchain-milvus\",\n",
    "    \"langchain-text-splitters\",\n",
    "]:\n",
    "    try:\n",
    "        package_version = version(package_name)\n",
    "        print(f\"{package_name}: {package_version}\")\n",
    "    except ImportError:\n",
    "        print(f\"{package_name}: 설치되지 않음\")"
   ]
  },
  {
   "cell_type": "markdown",
   "id": "36d8bbc4",
   "metadata": {},
   "source": []
  }
 ],
 "metadata": {
  "kernelspec": {
   "display_name": "rag-lecture-8YS9sgva-py3.13",
   "language": "python",
   "name": "python3"
  },
  "language_info": {
   "codemirror_mode": {
    "name": "ipython",
    "version": 3
   },
   "file_extension": ".py",
   "mimetype": "text/x-python",
   "name": "python",
   "nbconvert_exporter": "python",
   "pygments_lexer": "ipython3",
   "version": "3.13.5"
  }
 },
 "nbformat": 4,
 "nbformat_minor": 5
}

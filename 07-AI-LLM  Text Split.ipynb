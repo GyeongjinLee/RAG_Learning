{
 "cells": [
  {
   "cell_type": "markdown",
   "id": "bd301f42",
   "metadata": {},
   "source": [
    "# LangChain 문서 분할 샘플 코드 설명\n",
    "\n",
    "---\n",
    "\n",
    "## 1. 코드의 목적\n",
    "\n",
    "- **LangChain 문서로더(TextLoader)와 텍스트 분할기(CharacterTextSplitter)를 활용해**\n",
    "  - 텍스트 파일을 불러오고,\n",
    "  - 지정된 크기(chunk size)와 겹침(chunk overlap) 기준으로\n",
    "  - 문서를 여러 개의 \"청크\"로 분할하는 실전 예시를 보여줍니다.\n",
    "- RAG(검색 증강 생성) 및 대규모 문서 검색에 필수적인 \"문서 분할\"의 기본 원리를 이해하게 하는 것이 목적입니다.\n",
    "\n",
    "---\n",
    "\n",
    "## 2. 실무 활용 포인트\n",
    "  - 문서 분할은 RAG, 벡터 DB 저장, 검색 성능 개선에 핵심적인 역할\n",
    "  - 다양한 언어/문서/길이에도 맞춤형 파라미터 설정으로 유연하게 적용 가능"
   ]
  },
  {
   "cell_type": "code",
   "execution_count": 10,
   "id": "baf0cd74",
   "metadata": {},
   "outputs": [],
   "source": [
    "from langchain_community.document_loaders import TextLoader\n",
    "from langchain_text_splitters import CharacterTextSplitter\n",
    "from dotenv import load_dotenv\n",
    "\n",
    "# 환경변수 로드\n",
    "load_dotenv()\n",
    "\n",
    "# 텍스트 파일 생성 (예제용)\n",
    "sample_text = \"\"\"\n",
    "LangChain은 언어 모델을 활용한 애플리케이션 개발을 위한 프레임워크입니다.\n",
    "다양한 구성 요소들을 체인으로 연결하여 복잡한 작업을 수행할 수 있습니다.\n",
    "프롬프트 템플릿, 메모리, 에이전트 등의 기능을 제공합니다.\n",
    "LCEL(LangChain Expression Language)을 통해 더 직관적인 체인 구성이 가능합니다.\n",
    "벡터 저장소와 임베딩을 통해 RAG 시스템을 쉽게 구축할 수 있습니다.\n",
    "\"\"\"\n",
    "\n",
    "with open(\"sample.txt\", \"w\", encoding=\"utf-8\") as f:\n",
    "    f.write(sample_text)"
   ]
  },
  {
   "cell_type": "markdown",
   "id": "7b350fad",
   "metadata": {},
   "source": []
  },
  {
   "cell_type": "markdown",
   "id": "dc1e3de4",
   "metadata": {},
   "source": [
    "# CharacterTextSplitter 주요 옵션 상세 설명\n",
    "\n",
    "---\n",
    "\n",
    "## 1. chunk_size\n",
    "\n",
    "- **정의:**  \n",
    "  한 번에 분할되는 \"청크(chunk)\"의 최대 문자 수를 지정합니다.\n",
    "- **목적:**  \n",
    "  - LLM 또는 벡터DB가 한 번에 처리할 수 있는 최대 길이에 맞춰  \n",
    "    문서를 작은 단위(청크)로 나누기 위함입니다.\n",
    "- **예시:**  \n",
    "  `chunk_size=100`이면, 각 청크는 **최대 100자**까지 포함합니다.\n",
    "\n",
    "---\n",
    "\n",
    "## 2. chunk_overlap\n",
    "\n",
    "- **정의:**  \n",
    "  분할 시 앞뒤 청크가 **겹치는 부분의 문자 수**를 지정합니다.\n",
    "- **목적:**  \n",
    "  - 의미 단절 최소화:  \n",
    "    청크 경계에 중요한 정보가 끊기는 문제를 완화합니다.\n",
    "  - 맥락 유지:  \n",
    "    이전 청크와 겹치는 정보를 포함해 LLM의 응답 품질을 높입니다.\n",
    "- **예시:**  \n",
    "  `chunk_overlap=20`이면,  \n",
    "  이전 청크의 **마지막 20자**가 다음 청크의 **처음 20자**와 중복됩니다.\n",
    "  즉 이전 청크의 **마지막 20자와 다음 청크의 처음 20자가 동일한 내용**으로 한 번만 중복되어 들어가는 구조\n",
    "\n",
    "---\n",
    "\n",
    "## 3. separator\n",
    "\n",
    "- **정의:**  \n",
    "  청크를 나눌 때 **우선적으로 기준으로 삼는 구분 문자(혹은 문자열)**를 지정합니다.\n",
    "- **목적:**  \n",
    "  - 가급적 의미 단위(문단, 문장, 줄바꿈 등)에서 청크가 끊기게 하여  \n",
    "    자연스러운 분할을 지원합니다.\n",
    "- **예시:**  \n",
    "  `separator=\"\\n\"`이면,  \n",
    "  줄바꿈(\\n)을 기준으로 우선 분할하며, 만약 `chunk_size`를 초과하면 그 안에서 추가로 분할됩니다.\n",
    "\n",
    "---\n",
    "\n",
    "## 4. 실무 적용 팁\n",
    "\n",
    "- **chunk_size**는 LLM 토큰 한계, 벡터DB 검색 성능 등을 고려해 설정 (일반적으로 256~1024 문자)\n",
    "- **chunk_overlap**은 너무 작으면 맥락이 끊기고, 너무 크면 중복 저장/비용 증가 (20~100 문자 권장)\n",
    "- **separator**는 언어, 문서 구조(줄바꿈, 문단, 문장 등)에 따라 조정\n",
    "\n",
    "---\n",
    "\n",
    "## 5. 한 줄 요약\n",
    "\n",
    "> `CharacterTextSplitter`의 `chunk_size`, `chunk_overlap`, `separator` 옵션은  \n",
    "> \"문서의 의미와 맥락을 최대한 보존하면서  \n",
    "> 벡터DB/LLM이 효율적으로 처리할 수 있도록  \n",
    "> 최적의 단위로 텍스트를 분할\"하기 위해 사용하는 핵심 파라미터입니다.\n"
   ]
  },
  {
   "cell_type": "code",
   "execution_count": 11,
   "id": "14b175cd",
   "metadata": {},
   "outputs": [
    {
     "name": "stdout",
     "output_type": "stream",
     "text": [
      "=== 원본 문서 ===\n",
      "문서 수: 1\n",
      "문서 내용: \n",
      "LangChain은 언어 모델을 활용한 애플리케이션 개발을 위한 프레임워크입니다.\n",
      "다양한 구성 요소들을 체인으로 연결하여 복잡한 작업을 수행할 수 있습니다.\n",
      "프롬프트 템플릿, 메...\n"
     ]
    }
   ],
   "source": [
    "\n",
    "\n",
    "\n",
    "# 문서 로드\n",
    "loader = TextLoader(\"sample.txt\", encoding=\"utf-8\")\n",
    "documents = loader.load()\n",
    "\n",
    "print(\"=== 원본 문서 ===\")\n",
    "print(f\"문서 수: {len(documents)}\")\n",
    "print(f\"문서 내용: {documents[0].page_content[:100]}...\")\n",
    "\n",
    "# 텍스트 분할\n",
    "text_splitter = CharacterTextSplitter(\n",
    "    chunk_size=100,\n",
    "    chunk_overlap=20,\n",
    "    separator=\"\\n\"\n",
    ")\n",
    "docs = text_splitter.split_documents(documents)\n"
   ]
  },
  {
   "cell_type": "code",
   "execution_count": null,
   "id": "984992af",
   "metadata": {},
   "outputs": [
    {
     "name": "stderr",
     "output_type": "stream",
     "text": [
      "Created a chunk of size 25, which is longer than the specified 10\n",
      "Created a chunk of size 13, which is longer than the specified 10\n"
     ]
    },
    {
     "name": "stdout",
     "output_type": "stream",
     "text": [
      "\n",
      "=== 분할된 문서 (3개 청크) ===\n",
      "=== 청크 1 ===\n",
      "LangChain은 언어 모델을 활용한 애플리케이션 개발을 위한 프레임워크입니다.\n",
      "다양한 구성 요소들을 체인으로 연결하여 복잡한 작업을 수행할 수 있습니다.\n",
      "메타데이터: {'source': 'sample.txt'}\n",
      "\n",
      "=== 청크 2 ===\n",
      "프롬프트 템플릿, 메모리, 에이전트 등의 기능을 제공합니다.\n",
      "LCEL(LangChain Expression Language)을 통해 더 직관적인 체인 구성이 가능합니다.\n",
      "메타데이터: {'source': 'sample.txt'}\n",
      "\n",
      "=== 청크 3 ===\n",
      "벡터 저장소와 임베딩을 통해 RAG 시스템을 쉽게 구축할 수 있습니다.\n",
      "메타데이터: {'source': 'sample.txt'}\n",
      "\n",
      "=== 간단한 텍스트 분할 ===\n",
      "청크 1: LangChain은 AI 개발 프레임워크입니다\n",
      "청크 2: 다양한 기능을 제공합니다\n",
      "청크 3: 체인, 에이전트, RAG 등을 지원합니다.\n"
     ]
    }
   ],
   "source": [
    "print(f\"\\n=== 분할된 문서 ({len(docs)}개 청크) ===\")\n",
    "for i, doc in enumerate(docs):\n",
    "    print(f\"=== 청크 {i+1} ===\")\n",
    "    print(doc.page_content)\n",
    "    print(f\"메타데이터: {doc.metadata}\")\n",
    "    print()\n",
    "\n",
    "# 간단한 텍스트 분할 예제 (문서 로더 없이)\n",
    "simple_text = \"LangChain은 AI 개발 프레임워크입니다. 다양한 기능을 제공합니다. 체인, 에이전트, RAG 등을 지원합니다.\"\n",
    "\n",
    "simple_splitter = CharacterTextSplitter(\n",
    "    chunk_size=40,\n",
    "    chunk_overlap=5,\n",
    "    separator=\". \"\n",
    ")\n",
    "\n",
    "simple_chunks = simple_splitter.split_text(simple_text)\n",
    "print(\"=== 간단한 텍스트 분할 ===\")\n",
    "for i, chunk in enumerate(simple_chunks):\n",
    "    print(f\"청크 {i+1}: {chunk}\")"
   ]
  },
  {
   "cell_type": "code",
   "execution_count": null,
   "id": "94de58f7",
   "metadata": {},
   "outputs": [],
   "source": []
  }
 ],
 "metadata": {
  "kernelspec": {
   "display_name": "rag-lecture-8YS9sgva-py3.11",
   "language": "python",
   "name": "python3"
  },
  "language_info": {
   "codemirror_mode": {
    "name": "ipython",
    "version": 3
   },
   "file_extension": ".py",
   "mimetype": "text/x-python",
   "name": "python",
   "nbconvert_exporter": "python",
   "pygments_lexer": "ipython3",
   "version": "3.11.9"
  }
 },
 "nbformat": 4,
 "nbformat_minor": 5
}

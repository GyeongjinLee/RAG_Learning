{
 "cells": [
  {
   "cell_type": "markdown",
   "id": "f6a489e5",
   "metadata": {},
   "source": [
    "# Gemini 임베딩 & FAISS 벡터스토어 샘플 코드 설명\n",
    "\n",
    "---\n",
    "\n",
    "## 1. 코드의 목적\n",
    "\n",
    "- **목적:**  \n",
    "  Google Gemini 기반 임베딩(embedding)을 활용하여  \n",
    "  여러 문장(문서)을 벡터로 변환하고,  \n",
    "  FAISS 벡터스토어에 저장한 뒤  \n",
    "  질의(query)와 가장 유사한 문서를 검색하는 RAG 핵심 파이프라인을 실습한다.\n",
    "\n",
    "---"
   ]
  },
  {
   "cell_type": "code",
   "execution_count": 8,
   "id": "73c8e84f",
   "metadata": {},
   "outputs": [],
   "source": [
    "from dotenv import load_dotenv\n",
    "from langchain_google_genai import GoogleGenerativeAIEmbeddings\n",
    "from langchain_community.vectorstores import FAISS\n",
    "\n",
    "# 환경변수 로드\n",
    "load_dotenv()\n",
    "\n",
    "\n",
    "# 문서 준비\n",
    "documents = [\n",
    "    \"LangChain은 AI 애플리케이션 개발 프레임워크입니다.\",\n",
    "    \"Python은 데이터 과학과 AI 개발에 널리 사용되는 언어입니다.\",\n",
    "    \"OpenAI GPT 모델은 자연어 처리에 강력한 성능을 보입니다.\",\n",
    "    \"벡터 데이터베이스는 유사도 검색에 최적화되어 있습니다.\",\n",
    "    \"바닷가에 윈드 서핑 하면 재미 있습니다.\"\n",
    "]"
   ]
  },
  {
   "cell_type": "markdown",
   "id": "d1e767a6",
   "metadata": {},
   "source": [
    "# 벡터DB(Vector Database)란 무엇인가?\n",
    "\n",
    "---\n",
    "\n",
    "## 1. 정의\n",
    "\n",
    "- **벡터DB**는 텍스트·이미지·오디오 등 다양한 데이터를  \n",
    "  **고차원 벡터(임베딩)** 형태로 저장하고,\n",
    "  입력 쿼리 벡터와 **유사도 검색(Nearest Neighbor Search)**을  \n",
    "  고속으로 처리하는 데이터베이스 시스템입니다.\n",
    "\n",
    "---\n",
    "\n",
    "## 2. 동작 원리\n",
    "\n",
    "- 일반적인 RDB/NoSQL은 \"정확 일치\" 또는 \"필드 기반\" 검색이 주류\n",
    "- 벡터DB는 임베딩(embedding)된 벡터 공간에서  \n",
    "  **\"의미적으로 유사한 데이터\"를 빠르게 찾는** 것이 핵심\n",
    "- ANN(Approximate Nearest Neighbor), 해싱, 트리, 인덱스 등  \n",
    "  고속 유사도 탐색 알고리즘이 핵심 엔진\n",
    "\n",
    "---\n",
    "\n",
    "## 3. 주요 특징\n",
    "\n",
    "- **초고속 유사도 검색:**  \n",
    "  수십~수억 개 벡터에서 수 밀리초 이내로 가장 유사한 데이터 검색\n",
    "- **확장성:**  \n",
    "  대용량 분산 구조, 클라우드 지원, 수평 확장 용이\n",
    "- **다양한 데이터 타입 지원:**  \n",
    "  텍스트, 이미지, 비디오, 오디오, 복합 데이터 모두 저장 가능\n",
    "- **현대 AI/RAG 파이프라인의 표준 스토리지**\n",
    "\n",
    "---\n",
    "\n",
    "## 4. 대표적인 벡터DB 솔루션\n",
    "\n",
    "- **FAISS:**  \n",
    "  Facebook이 개발한 오픈소스, 파이썬/C++ API\n",
    "- **Pinecone:**  \n",
    "  상용 클라우드 벡터DB, RAG에 최적화\n",
    "- **Chroma:**  \n",
    "  오픈소스, 간편한 로컬 DB/메모리 기반 실습에 강점\n",
    "- **Milvus:**  \n",
    "  분산형 오픈소스, 초대형 실시간 검색에 최적화\n",
    "- **Weaviate:**  \n",
    "  시맨틱 검색, 그래프, 온프렘/클라우드 지원\n",
    "\n",
    "---\n",
    "\n",
    "## 5. 실무에서의 역할\n",
    "\n",
    "- **RAG(검색 증강 생성):**  \n",
    "  LLM 질의와 의미적으로 가장 가까운 문서를 실시간 검색해  \n",
    "  프롬프트에 자동 증강\n",
    "- **시맨틱 검색:**  \n",
    "  사용자가 입력한 자연어 쿼리와 의미적으로 유사한 컨텐츠 추천\n",
    "- **추천 시스템, 이상 탐지, 이미지/비디오 검색 등**  \n",
    "  의미 기반 유사도 비교가 중요한 모든 AI 분야에서 활용\n",
    "\n",
    "---"
   ]
  },
  {
   "cell_type": "code",
   "execution_count": 12,
   "id": "b17fb5dd",
   "metadata": {},
   "outputs": [
    {
     "name": "stdout",
     "output_type": "stream",
     "text": [
      "검색 결과:\n",
      "- Python은 데이터 과학과 AI 개발에 널리 사용되는 언어입니다.\n",
      "- OpenAI GPT 모델은 자연어 처리에 강력한 성능을 보입니다.\n"
     ]
    }
   ],
   "source": [
    "# Gemini 임베딩 생성\n",
    "embeddings = GoogleGenerativeAIEmbeddings(\n",
    "    model=\"models/embedding-001\"  # 최신 임베딩 모델명(생략 가능)\n",
    "    # api_key는 .env의 GOOGLE_API_KEY를 자동 인식\n",
    ")\n",
    "\n",
    "# 벡터 저장소 생성\n",
    "vectorstore = FAISS.from_texts(documents, embeddings)\n",
    "\n",
    "# 유사도 검색\n",
    "query = \"AI 개발 프레임워크\"\n",
    "similar_docs = vectorstore.similarity_search(query, k=2)\n",
    "\n",
    "print(\"검색 결과:\")\n",
    "for doc in similar_docs:\n",
    "    print(f\"- {doc.page_content}\")"
   ]
  },
  {
   "cell_type": "code",
   "execution_count": null,
   "id": "79bcca6e",
   "metadata": {},
   "outputs": [],
   "source": []
  }
 ],
 "metadata": {
  "kernelspec": {
   "display_name": "rag-lecture-8YS9sgva-py3.11",
   "language": "python",
   "name": "python3"
  },
  "language_info": {
   "codemirror_mode": {
    "name": "ipython",
    "version": 3
   },
   "file_extension": ".py",
   "mimetype": "text/x-python",
   "name": "python",
   "nbconvert_exporter": "python",
   "pygments_lexer": "ipython3",
   "version": "3.11.9"
  }
 },
 "nbformat": 4,
 "nbformat_minor": 5
}

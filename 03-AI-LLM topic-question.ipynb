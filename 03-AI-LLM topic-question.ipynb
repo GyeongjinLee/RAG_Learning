{
 "cells": [
  {
   "cell_type": "markdown",
   "id": "b639cde5",
   "metadata": {},
   "source": []
  },
  {
   "cell_type": "code",
   "execution_count": null,
   "id": "313ac5ef",
   "metadata": {},
   "outputs": [],
   "source": [
    "### AI KEY 를 통해 LLM 에 프롬프트 수행 샘플\n",
    "\n",
    "- 로컬의 .env 환경 변수를 로드\n",
    "- API Key 를 읽어 LLM 에 프롬프트 수행\n"
   ]
  },
  {
   "cell_type": "markdown",
   "id": "4977da05",
   "metadata": {},
   "source": []
  },
  {
   "cell_type": "code",
   "execution_count": 1,
   "id": "cf54b97a",
   "metadata": {},
   "outputs": [
    {
     "data": {
      "text/plain": [
       "True"
      ]
     },
     "execution_count": 1,
     "metadata": {},
     "output_type": "execute_result"
    }
   ],
   "source": [
    "from dotenv import load_dotenv\n",
    "\n",
    "load_dotenv()\n",
    "\n"
   ]
  },
  {
   "cell_type": "markdown",
   "id": "b2d18686",
   "metadata": {},
   "source": [
    "\n",
    "- llm 초기화\n",
    "- llm 실행\n"
   ]
  },
  {
   "cell_type": "code",
   "execution_count": 4,
   "id": "a5ee2eb2",
   "metadata": {},
   "outputs": [
    {
     "name": "stdout",
     "output_type": "stream",
     "text": [
      "? 질문: 한국의 수도는 어디인가요?\n",
      "----------------------------------------\n",
      " Gemini 답변: 한국의 수도는 **서울**입니다.\n"
     ]
    }
   ],
   "source": [
    "import os\n",
    "from langchain_google_genai import ChatGoogleGenerativeAI\n",
    "\n",
    "api_key = os.getenv(\"GOOGLE_API_KEY\")\n",
    "if not api_key:\n",
    "    print(\".env 파일에 GOOGLE_API_KEY 를 설정해주세요\")\n",
    "    \n",
    "\n",
    "llm = ChatGoogleGenerativeAI(\n",
    "    model=\"gemini-1.5-flash\",\n",
    "    google_api_key=api_key,\n",
    "    temperature=0.2\n",
    ")\n",
    "\n",
    "question = \"한국의 수도는 어디인가요?\"\n",
    "print(f\"? 질문: {question}\")\n",
    "print(\"-\" * 40)\n",
    "\n",
    "response = llm.invoke(question)\n",
    "print(f\" Gemini 답변: {response.content}\")\n"
   ]
  },
  {
   "cell_type": "code",
   "execution_count": null,
   "id": "a73eb7c7",
   "metadata": {},
   "outputs": [],
   "source": []
  }
 ],
 "metadata": {
  "kernelspec": {
   "display_name": "rag-lecture-8YS9sgva-py3.11",
   "language": "python",
   "name": "python3"
  },
  "language_info": {
   "codemirror_mode": {
    "name": "ipython",
    "version": 3
   },
   "file_extension": ".py",
   "mimetype": "text/x-python",
   "name": "python",
   "nbconvert_exporter": "python",
   "pygments_lexer": "ipython3",
   "version": "3.11.9"
  }
 },
 "nbformat": 4,
 "nbformat_minor": 5
}

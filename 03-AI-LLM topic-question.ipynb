{
 "cells": [
  {
   "cell_type": "markdown",
   "id": "313ac5ef",
   "metadata": {},
   "source": [
    "### 샘플 코드의 목적\n",
    "사용자가 지정한 주제와 질문에 대해 친절한 AI 어시스턴트 스타일로,\n",
    "LLM(예: genmini, GPT-3, GPT-4)을 활용하여 \n",
    "간단하고 이해하기 쉽게 답변을 생성하는 자동화 파이프라인을 구현하는 예시입니다.\n",
    "\n",
    "- PromptTemplate:\n",
    "프롬프트(질문) 양식을 미리 템플릿화해 여러 상황에 재활용 가능하게 해줍니다.\n"
   ]
  },
  {
   "cell_type": "markdown",
   "id": "4977da05",
   "metadata": {},
   "source": []
  },
  {
   "cell_type": "code",
   "execution_count": null,
   "id": "cf54b97a",
   "metadata": {},
   "outputs": [],
   "source": [
    "from dotenv import load_dotenv\n",
    "import os\n",
    "from langchain_google_genai import ChatGoogleGenerativeAI\n",
    "from langchain_core.prompts import PromptTemplate\n",
    "\n",
    "load_dotenv()\n",
    "\n"
   ]
  },
  {
   "cell_type": "markdown",
   "id": "b2d18686",
   "metadata": {},
   "source": [
    "# `topic`과 `question` 변수 설명\n",
    "\n",
    "## 1. `topic` 변수\n",
    "\n",
    "- **정의**: 질의의 주요 주제(Subject, Main Theme)를 의미  \n",
    "  예시: `파이썬 프로그래밍`, `금융 데이터 분석`, `AI 트렌드`\n",
    "\n",
    "- **역할**\n",
    "    - LLM이 답변의 **문맥(Context)**을 이해하도록 도움\n",
    "    - 동일한 질문이라도 주제에 따라 **다른 관점/수준** 설명 유도\n",
    "    - 서비스에서 **주제별 맞춤 답변** 제공 가능\n",
    "\n",
    "---\n",
    "\n",
    "## 2. `question` 변수\n",
    "\n",
    "- **정의**: topic과 관련된 **구체적인 질문** 또는 요청  \n",
    "  예시: `리스트와 튜플의 차이점은?`, `머신러닝에서 과적합이란?`, `환율 변동 예측법은?`\n",
    "\n",
    "- **역할**\n",
    "    - LLM이 **핵심적으로 설명해야 할 포인트**를 명확히 제시\n",
    "    - topic과 결합해 **정확하고 맥락에 맞는 답변**을 생성하도록 도움\n",
    "\n",
    "---\n",
    "\n",
    "## 3. 사용 예시\n",
    "\n",
    "| topic             | question                  | AI 답변 예시                   |\n",
    "|-------------------|--------------------------|-------------------------------|\n",
    "| 파이썬 프로그래밍   | 리스트와 튜플의 차이점은? | 리스트는 수정 가능, 튜플은 불변...  |\n",
    "| 금융 데이터 분석   | 시계열 데이터란?          | 시계열 데이터는 시간 흐름에 따라... |\n",
    "| 머신러닝           | 과적합이란?               | 과적합이란 학습 데이터에 특화된...   |\n",
    "\n",
    "---\n",
    "\n",
    "## 4. 실무적 활용 방안\n",
    "\n",
    "- **챗봇/FAQ**: topic=카테고리, question=사용자 질문\n",
    "- **교육 플랫폼**: topic=강의 단원, question=학생 질문\n",
    "- **전문 Q&A**: topic=분야, question=구체적 궁금증\n",
    "\n",
    "---\n",
    "\n",
    "## 5. 요약\n",
    "\n",
    "- `topic`: **답변의 큰 틀/주제**를 지정\n",
    "- `question`: **구체적으로 알고 싶은 내용**을 전달\n",
    "- 두 변수를 조합해 **일관적이고 맥락 있는 AI 답변** 생성 가능"
   ]
  },
  {
   "cell_type": "code",
   "execution_count": null,
   "id": "a5ee2eb2",
   "metadata": {},
   "outputs": [],
   "source": [
    "\n",
    "api_key = os.getenv(\"GOOGLE_API_KEY\")\n",
    "if not api_key:\n",
    "    print(\".env 파일에 GOOGLE_API_KEY 를 설정해주세요\")\n",
    "\n",
    "template = \"\"\"\n",
    "당신은 친절한 AI 어시스턴트입니다.\n",
    "주제: {topic}\n",
    "질문: {question}\n",
    "\n",
    "위 주제에 대해 간단하고 이해하기 쉽게 설명해주세요.\n",
    "\"\"\"\n",
    "\n",
    "prompt = PromptTemplate(\n",
    "    input_variables=[\"topic\", \"question\"],\n",
    "    template=template\n",
    ")\n",
    "\n",
    "    \n",
    "\n",
    "llm = ChatGoogleGenerativeAI(\n",
    "    model=\"gemini-1.5-flash\",\n",
    "    google_api_key=api_key,\n",
    "    temperature=0.2\n",
    ")\n",
    "\n",
    "formatted_prompt = prompt.format(\n",
    "    topic=\"파이썬 프로그래밍\",\n",
    "    question=\"리스트와 튜플의 차이점은 무엇인가요?\"\n",
    ")\n",
    "print(f\"질문: {formatted_prompt}\")\n",
    "response = llm.invoke(formatted_prompt)\n",
    "print(f\"답변: {response.content}\")\n"
   ]
  },
  {
   "cell_type": "markdown",
   "id": "a73eb7c7",
   "metadata": {},
   "source": []
  },
  {
   "cell_type": "markdown",
   "id": "71b549fb",
   "metadata": {},
   "source": [
    "- LangSMITH 사이트에서 LLM API 호출, 중간 체인 처리 등을 자동으로 추적 기록하여 요청/응답 데이터, 파라미터, 처리흐름, 오류 등을 대시 보드에서 시각화 할수 있는 기능\n",
    "https://smith.langchain.com/\n",
    "- 로그인 \n",
    "- tracing 정보 확인 할수 있음\n"
   ]
  },
  {
   "cell_type": "markdown",
   "id": "fdcef176",
   "metadata": {},
   "source": []
  }
 ],
 "metadata": {
  "kernelspec": {
   "display_name": "rag-lecture-8YS9sgva-py3.11",
   "language": "python",
   "name": "python3"
  },
  "language_info": {
   "codemirror_mode": {
    "name": "ipython",
    "version": 3
   },
   "file_extension": ".py",
   "mimetype": "text/x-python",
   "name": "python",
   "nbconvert_exporter": "python",
   "pygments_lexer": "ipython3",
   "version": "3.11.9"
  }
 },
 "nbformat": 4,
 "nbformat_minor": 5
}
